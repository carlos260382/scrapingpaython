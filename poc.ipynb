{
 "cells": [
  {
   "cell_type": "code",
   "execution_count": 1,
   "metadata": {},
   "outputs": [],
   "source": [
    "import cv2\n",
    "import os\n",
    "from selenium import webdriver\n",
    "from selenium.webdriver.chrome.service import Service\n",
    "from webdriver_manager.chrome import ChromeDriverManager\n",
    "from selenium.webdriver.common.by import By\n",
    "import pandas as pd\n",
    "from pyzbar.pyzbar import decode\n",
    "from pdf2image import convert_from_path\n",
    "from io import BytesIO\n",
    "from PIL import Image\n",
    "from bs4 import BeautifulSoup\n",
    "from selenium import webdriver\n",
    "from pdf2image import convert_from_path\n",
    "from IPython.display import display, Image\n",
    "import pyautogui\n",
    "import time"
   ]
  },
  {
   "cell_type": "code",
   "execution_count": 3,
   "metadata": {},
   "outputs": [],
   "source": [
    "# os.system('explorer')\n",
    "# os.startfile(\"D:\\PREVALENTWARE\\RAPPI\\lectura-csf-mexico\\CFS ADBID LATAM MX SA DE CV.pdf\")\n",
    "# time.sleep(5)\n",
    "# screenshot = pyautogui.screenshot()\n",
    "# screenshot.save(r'D:\\PREVALENTWARE\\RAPPI\\lectura-csf-mexico\\filename.png')"
   ]
  },
  {
   "cell_type": "markdown",
   "metadata": {},
   "source": [
    "Obtengo los archivos PDF para convertir a Imagen"
   ]
  },
  {
   "cell_type": "code",
   "execution_count": 2,
   "metadata": {},
   "outputs": [
    {
     "name": "stdout",
     "output_type": "stream",
     "text": [
      "d:\\PREVALENTWARE\\RAPPI\\lectura-csf-mexico\n",
      "['CSF MARIA DEL ROCIO.pdf', 'CSF SERVICIOS JURIDICOS Y ASESORIA POLITICA INTEGRAL.pdf', 'CSF VECH SOLUCIONES EN TRANSPORTE.pdf']\n"
     ]
    }
   ],
   "source": [
    "directory = os.getcwd()\n",
    "\n",
    "print(directory)\n",
    "files_pdf = []\n",
    "with os.scandir(path=directory) as itr:\n",
    "    for file in itr:\n",
    "        if file.name.split('.')[-1]==\"pdf\":\n",
    "            files_pdf.append(file.name)\n",
    "    print(files_pdf)        "
   ]
  },
  {
   "cell_type": "code",
   "execution_count": 3,
   "metadata": {},
   "outputs": [
    {
     "name": "stdout",
     "output_type": "stream",
     "text": [
      "CSF MARIA DEL ROCIO.png\n",
      "CSF SERVICIOS JURIDICOS Y ASESORIA POLITICA INTEGRAL.png\n",
      "CSF VECH SOLUCIONES EN TRANSPORTE.png\n"
     ]
    }
   ],
   "source": [
    "os.system('explorer')\n",
    "for file in files_pdf:\n",
    "    file_name_png = file.split('.')[0] + \".png\"\n",
    "    print(file_name_png)\n",
    "\n",
    "    path = r\"D:\\PREVALENTWARE\\RAPPI\\lectura-csf-mexico\\%s\" % file\n",
    "    os.startfile(\"D:\\\\PREVALENTWARE\\\\RAPPI\\\\lectura-csf-mexico\\\\%s\" % file)\n",
    "    time.sleep(3)\n",
    "    screenshot = pyautogui.screenshot()\n",
    "    screenshot.save(\"D:\\\\PREVALENTWARE\\\\RAPPI\\\\lectura-csf-mexico\\\\%s\" % file_name_png)\n",
    "\n",
    "   \n",
    "    # # except OSError:\n",
    "    # #     print(OSError)\n",
    "    # # else:\n",
    "    # #     print(\"Se creo el screen\")\n",
    "# os.system(\"taskkill /im chrome.exe /f\")"
   ]
  },
  {
   "cell_type": "markdown",
   "metadata": {},
   "source": [
    "Obtengo los archivos imagenes"
   ]
  },
  {
   "cell_type": "code",
   "execution_count": 4,
   "metadata": {},
   "outputs": [
    {
     "name": "stdout",
     "output_type": "stream",
     "text": [
      "['CSF MARIA DEL ROCIO.png', 'CSF SERVICIOS JURIDICOS Y ASESORIA POLITICA INTEGRAL.png', 'CSF VECH SOLUCIONES EN TRANSPORTE.png']\n"
     ]
    }
   ],
   "source": [
    "files_png = []\n",
    "with os.scandir(path=directory) as itr:\n",
    "    for file in itr:\n",
    "        if file.name.split('.')[-1]==\"png\":\n",
    "            files_png.append(file.name)\n",
    "    print(files_png)   "
   ]
  },
  {
   "cell_type": "markdown",
   "metadata": {},
   "source": [
    "Obtener las URL de cada archivo png"
   ]
  },
  {
   "cell_type": "code",
   "execution_count": 5,
   "metadata": {},
   "outputs": [
    {
     "name": "stdout",
     "output_type": "stream",
     "text": [
      "['https://siat.sat.gob.mx/app/qr/faces/pages/mobile/validadorqr.jsf?D1=10&D2=1&D3=14061187505_BACR6608146T0']\n"
     ]
    }
   ],
   "source": [
    "urls = []\n",
    "for file in files_png:\n",
    "    img = cv2.imread(\"D:\\\\PREVALENTWARE\\\\RAPPI\\\\lectura-csf-mexico\\\\%s\" % file)\n",
    "    for code in decode(img):\n",
    "        if(code.type == 'QRCODE'):\n",
    "            urls.append(code.data.decode('utf-8'))\n",
    "print(urls)"
   ]
  },
  {
   "cell_type": "markdown",
   "metadata": {},
   "source": [
    "Ingreso a cada URL para capturar la data"
   ]
  },
  {
   "cell_type": "code",
   "execution_count": 6,
   "metadata": {},
   "outputs": [
    {
     "name": "stdout",
     "output_type": "stream",
     "text": [
      "['CURP', 'Nombre', 'Apellido Paterno', 'Apellido Materno', 'Fecha Nacimiento', 'Fecha de Inicio de operaciones', 'Situación del contribuyente', 'Fecha del último cambio de situación', 'Entidad Federativa', 'Municipio o delegación', 'Colonia', 'Tipo de vialidad', 'Nombre de la vialidad', 'Número exterior', 'Número interior', 'CP', 'Correo electrónico', 'AL', 'Régimen', 'Fecha de alta']\n",
      "[' BACR660814MDFRSC05', ' MARIA DEL ROCIO', ' BARRIOS', ' CASTILLO', ' 14-08-1966', ' 19-07-2006', ' ACTIVO', ' 19-07-2006', ' MEXICO', ' NAUCALPAN DE JUAREZ', ' JARDINES DE SATELITE', ' CALLE', ' VIA LACTEA', ' 275', ' MZ. 10 VIV. A', ' 53129', ' jhopo_3@yahoo.com.mx', ' MEXICO 2', ' Régimen de las Personas Físicas con Actividades Empresariales y Profesionales', ' 19-07-2006']\n"
     ]
    }
   ],
   "source": [
    "list_heads = []\n",
    "list_rows = []\n",
    "for url in urls:\n",
    "    time.sleep(1)\n",
    "    driver = webdriver.Chrome(service=Service(ChromeDriverManager().install()))\n",
    "    driver.set_window_size(1200, 1000)\n",
    "    driver.get(url)\n",
    "    time.sleep(1)\n",
    "\n",
    "    table1 = driver.find_element(\n",
    "                By.XPATH,'//*[@id=\"ubicacionForm:j_idt10:0:j_idt11:j_idt14_data\"]')\n",
    "\n",
    "    table1 = table1.text.split('\\n')\n",
    "    for row in table1:\n",
    "        row1 = row.split(':')[0]\n",
    "        row2 = row.split(':')[1]\n",
    "        list_heads.append(row1)\n",
    "        list_rows.append(row2)\n",
    "\n",
    "    table2 = driver.find_element(\n",
    "                    By.XPATH,'//*[@id=\"ubicacionForm:j_idt10:1:j_idt11:j_idt14_data\"]')\n",
    "\n",
    "    table2 = table2.text.split('\\n')\n",
    "    for row in table2:\n",
    "        row1 = row.split(':')[0]\n",
    "        row2 = row.split(':')[1]\n",
    "        list_heads.append(row1)\n",
    "        list_rows.append(row2)\n",
    "\n",
    "    table3 = driver.find_element(\n",
    "                    By.XPATH,'//*[@id=\"ubicacionForm:j_idt10:2:j_idt11:j_idt14_data\"]')\n",
    "\n",
    "    table3 = table3.text.split('\\n')\n",
    "    for row in table3:\n",
    "        row1 = row.split(':')[0]\n",
    "        row2 = row.split(':')[1]\n",
    "        list_heads.append(row1)\n",
    "        list_rows.append(row2)\n",
    "\n",
    "print(list_heads)\n",
    "print(list_rows)\n",
    "\n",
    "\n"
   ]
  },
  {
   "cell_type": "markdown",
   "metadata": {},
   "source": [
    "Data Frame"
   ]
  },
  {
   "cell_type": "code",
   "execution_count": 7,
   "metadata": {},
   "outputs": [
    {
     "name": "stderr",
     "output_type": "stream",
     "text": [
      "c:\\Users\\USER\\AppData\\Local\\Programs\\Python\\Python310\\lib\\site-packages\\pandas\\util\\_decorators.py:211: FutureWarning: the 'encoding' keyword is deprecated and will be removed in a future version. Please take steps to stop the use of 'encoding'\n",
      "  return func(*args, **kwargs)\n"
     ]
    }
   ],
   "source": [
    "df = pd.DataFrame({'Informacion':list_heads, 'datos':list_rows})\n",
    "df.to_excel('file.xlsx', index = False, header = False, encoding ='utf-8')"
   ]
  }
 ],
 "metadata": {
  "kernelspec": {
   "display_name": "Python 3.10.5 64-bit",
   "language": "python",
   "name": "python3"
  },
  "language_info": {
   "codemirror_mode": {
    "name": "ipython",
    "version": 3
   },
   "file_extension": ".py",
   "mimetype": "text/x-python",
   "name": "python",
   "nbconvert_exporter": "python",
   "pygments_lexer": "ipython3",
   "version": "3.10.5"
  },
  "orig_nbformat": 4,
  "vscode": {
   "interpreter": {
    "hash": "df95319d8ce4e1d89f5365ae10992bc1f65da593082b1d264e8f529830ec2f02"
   }
  }
 },
 "nbformat": 4,
 "nbformat_minor": 2
}
